{
 "cells": [
  {
   "cell_type": "code",
   "execution_count": 1,
   "id": "6f56df22-ac05-461a-bfcf-fbdc555ae96b",
   "metadata": {},
   "outputs": [
    {
     "data": {
      "text/plain": [
       "'\\n# standard python modules\\n%matplotlib inline\\nimport plotly.express as px\\nimport matplotlib.pyplot as plt\\nimport numpy as np\\nimport pandas as pd\\nimport pydataset\\nimport seaborn as sns\\nfrom math import sqrt\\nfrom sklearn.feature_selection import RFE, SelectKBest, chi2, f_regression\\nfrom sklearn.preprocessing import MinMaxScaler\\nfrom sklearn.metrics import mean_squared_error, r2_score\\nfrom sklearn.linear_model import LinearRegression, LassoLars, TweedieRegressor\\nimport statsmodels.api as sm\\nfrom scipy.stats import spearmanr\\n\\n# my modules\\nimport src.wrangle as wr\\nimport src.evaluate as ev \\nimport src.put_it_together as pit\\n\\n# setting random seed to 7\\nnp.random.seed(7)\\n\\n# turning off red warnings\\nimport warnings\\nwarnings.filterwarnings(\"ignore\")\\n\\n# module for fixing imported modules\\nfrom importlib import reload\\n'"
      ]
     },
     "execution_count": 1,
     "metadata": {},
     "output_type": "execute_result"
    }
   ],
   "source": [
    "'''\n",
    "# standard python modules\n",
    "%matplotlib inline\n",
    "import plotly.express as px\n",
    "import matplotlib.pyplot as plt\n",
    "import numpy as np\n",
    "import pandas as pd\n",
    "import pydataset\n",
    "import seaborn as sns\n",
    "from math import sqrt\n",
    "from sklearn.feature_selection import RFE, SelectKBest, chi2, f_regression\n",
    "from sklearn.preprocessing import MinMaxScaler\n",
    "from sklearn.metrics import mean_squared_error, r2_score\n",
    "from sklearn.linear_model import LinearRegression, LassoLars, TweedieRegressor\n",
    "import statsmodels.api as sm\n",
    "from scipy.stats import spearmanr\n",
    "\n",
    "# my modules\n",
    "import src.wrangle as wr\n",
    "import src.evaluate as ev \n",
    "import src.put_it_together as pit\n",
    "\n",
    "# setting random seed to 7\n",
    "np.random.seed(7)\n",
    "\n",
    "# turning off red warnings\n",
    "import warnings\n",
    "warnings.filterwarnings(\"ignore\")\n",
    "\n",
    "# module for fixing imported modules\n",
    "from importlib import reload\n",
    "'''"
   ]
  },
  {
   "cell_type": "code",
   "execution_count": 4,
   "id": "b6bea6b1-a034-4388-9ea3-a42dc2642a48",
   "metadata": {},
   "outputs": [],
   "source": [
    "import src.put_it_together as pit\n",
    "import src.wrangle as wr"
   ]
  },
  {
   "cell_type": "code",
   "execution_count": 5,
   "id": "508f237b-4cc9-4b10-9773-1861c975210f",
   "metadata": {},
   "outputs": [],
   "source": [
    "simple_df = wr.zillow_2017()\n",
    "complex_df = wr.zillow_2017(simple=False)"
   ]
  },
  {
   "cell_type": "markdown",
   "id": "8e4cf9b9-ea6f-42f3-bb6f-ea5734d08b20",
   "metadata": {},
   "source": [
    "## Data Dictionary\n",
    "**For the Simple Model**\n",
    "| Column | Description |\n",
    "| --- | ---|\n",
    "| baths | Number of Bathrooms |\n",
    "| bedrooms | Number of Bedrooms |\n",
    "| sq_feet | Total finished square feet of home |\n",
    "| fips | Broken down below. Fips represents the code for the county where a house resides |\n",
    "| fips: 6037 | Los Angeles County |\n",
    "| fips: 6059 | Orange County |\n",
    "| fips: 6111 | Ventura County |\n",
    "| tax_value | Proxy for the home's value to potential buyers |\n",
    "\n",
    "\n",
    "**For the Complex Model**\n",
    "| Column | Description |\n",
    "| --- | ---|\n",
    "| bath_adv | Number of Bathrooms, including partial bathrooms |\n",
    "| bedrooms | Number of Bedrooms |\n",
    "| lot size | The size of the lot on which the house sits |\n",
    "| squared_sq_feet| The square feet of a home squared again to give the variable polynomial features |\n",
    "| fips | Broken down below. Fips represents the code for the county where a house resides |\n",
    "| fips: 6037 | Los Angeles County |\n",
    "| fips: 6059 | Orange County |\n",
    "| fips: 6111 | Ventura County |\n",
    "| tax_value | Proxy for the home's value to potential buyers |"
   ]
  },
  {
   "cell_type": "markdown",
   "id": "cc150a99-4364-4e31-b0a0-386df4110dfd",
   "metadata": {},
   "source": [
    "## First thing, first. Cleaning our data. \n",
    "- We removed outliers that ended up contributing to about 11% of the sample. Usually, we don't think of 11% of a population as being outliers. In this case however, we want to predict house prices that actual customers for houses will be looking to purchase.\n",
    "- As such, we eliminated houses with certain features including:\n",
    "1. More than 5 bedrooms or 1 bedroom\n",
    "2. 5 or more bathrooms\n",
    "3. more than 6,000 square feet\n",
    "4. lot sizes which are smaller than 750 square feet\n",
    "5. houses which are older than a century \n",
    "\n",
    "- While a few of our important variables do not look \"pretty\", I think they are much more workable than what we began with."
   ]
  },
  {
   "cell_type": "markdown",
   "id": "49e3f316-4686-4991-b473-fc68e7a36d62",
   "metadata": {},
   "source": [
    "## Furthermore, from the beginning I wanted to carry a comparison between two different sets of features for our modeling. \n",
    "- I wanted to see just how profoundly some of these features play off each other and influence our ability to predict home values.\n",
    "- Those feature sets will be identified as the complex model and the simple model, the difference being that the complex model has more variables.\n",
    "\n",
    "1. The simple model contains four features: bedrooms, baths, sqaure feet of the house, and fips (county information)\n",
    "\n",
    "2. The complex model contains the following features: bedrooms, bathrooms - but including half bathrooms, lot size, square feet of the house, size of the lot, and year the home was built. \n",
    "\n",
    "\n",
    "### After all our cleaning was completed, we were left with 48,223 properties"
   ]
  },
  {
   "cell_type": "markdown",
   "id": "94a913ef-fdbf-4168-904c-e619201fa316",
   "metadata": {},
   "source": [
    "### Taking a look at the data after we alter it due to our outlier detection methods showing us glaring problems."
   ]
  },
  {
   "cell_type": "code",
   "execution_count": null,
   "id": "2a2453f4-771b-4be6-ba50-484eea8a58fe",
   "metadata": {},
   "outputs": [],
   "source": [
    "pit.explore_simple(simple_df)\n",
    "pit.explore_complex(complex_df)"
   ]
  },
  {
   "cell_type": "markdown",
   "id": "5777188b-af8e-476c-b07c-33f1fda330a5",
   "metadata": {},
   "source": [
    "## Exploring our features' correlation with the target variable - \"tax_value\""
   ]
  },
  {
   "cell_type": "code",
   "execution_count": null,
   "id": "f6404a97-ba2d-4476-8608-0a387cc31352",
   "metadata": {},
   "outputs": [],
   "source": [
    "pit.correlate_viz(simple_df, complex_df, 'tax_value')"
   ]
  },
  {
   "cell_type": "markdown",
   "id": "93d82ff3-3606-4735-a8b8-3a469a48e903",
   "metadata": {},
   "source": [
    "## Another look at correlation between our model features and our target variable, 'tax_value':"
   ]
  },
  {
   "cell_type": "code",
   "execution_count": null,
   "id": "29200970-9a18-4629-bde1-f4ff24dddc6a",
   "metadata": {},
   "outputs": [],
   "source": [
    "for columns in simple_df:\n",
    "    pit.spearman_test(simple_df, 'tax_value', columns)"
   ]
  },
  {
   "cell_type": "code",
   "execution_count": null,
   "id": "81e9340f-29be-41e0-862b-617a1cd6c2d6",
   "metadata": {},
   "outputs": [],
   "source": [
    "for columns in complex_df:\n",
    "    pit.spearman_test(complex_df, 'tax_value', columns)"
   ]
  },
  {
   "cell_type": "markdown",
   "id": "e16c9168-b194-48ac-a031-4f73a03d3e8f",
   "metadata": {},
   "source": [
    "### I had a suspicion that we could not effectively handle the data sets as 1 individual model because the samples would diverge around location. So, I investigated that suspicion and found that each county had unique features and distributions of property values. "
   ]
  },
  {
   "cell_type": "code",
   "execution_count": null,
   "id": "0f2dcf1d-8578-4e8d-af3d-17453ac530df",
   "metadata": {},
   "outputs": [],
   "source": [
    "pit.fips_viz(simple_df)"
   ]
  },
  {
   "cell_type": "code",
   "execution_count": null,
   "id": "4c5e5031-1255-422d-a649-8c5a74d9dee1",
   "metadata": {},
   "outputs": [],
   "source": [
    "compare_df = pit.simple_regression_workhorse(simple_df)"
   ]
  },
  {
   "cell_type": "code",
   "execution_count": null,
   "id": "2de91f71-e82b-4ca7-81c0-1d6eb9ed48b9",
   "metadata": {},
   "outputs": [],
   "source": [
    "final_comparison_df = pit.complex_regression_workhorse(complex_df, compare_df)"
   ]
  },
  {
   "cell_type": "markdown",
   "id": "1aa4d95a-18fb-4afc-90b3-7f66c64b542c",
   "metadata": {},
   "source": [
    "## "
   ]
  },
  {
   "cell_type": "code",
   "execution_count": null,
   "id": "68603d85-0540-4d77-bf2f-f87d9a207829",
   "metadata": {},
   "outputs": [],
   "source": [
    "final_comparison_df"
   ]
  },
  {
   "cell_type": "markdown",
   "id": "2ecf7299-7079-421d-8202-fafd2365a865",
   "metadata": {},
   "source": [
    "## How does the simplest model perform? "
   ]
  },
  {
   "cell_type": "code",
   "execution_count": null,
   "id": "5eed574d-1a2b-40c1-a9bc-7b285108c04e",
   "metadata": {
    "tags": []
   },
   "outputs": [],
   "source": [
    "pit.pie_chart1(compare_df)"
   ]
  },
  {
   "cell_type": "markdown",
   "id": "823c03a7-0493-4313-85bd-97416e2e2814",
   "metadata": {},
   "source": [
    "### It is pretty abysmal. Only 29% of the variation in our proxy variable for house selling prices, tax_value, can be explained by our model's features."
   ]
  },
  {
   "cell_type": "markdown",
   "id": "e055f167-eb70-41d1-b71f-b3a1c0f46d46",
   "metadata": {},
   "source": [
    "## Testing our best model(s) on out of sample data"
   ]
  },
  {
   "cell_type": "code",
   "execution_count": null,
   "id": "1f82d53b-de8b-4880-b6e7-45c0ae89d2d8",
   "metadata": {},
   "outputs": [],
   "source": [
    "pit.overload_pies(final_comparison_df)"
   ]
  },
  {
   "cell_type": "code",
   "execution_count": null,
   "id": "92b545fb-0668-4722-9645-0f4185c325bb",
   "metadata": {},
   "outputs": [],
   "source": [
    "final = pit.test_model(complex_df, simple_df)"
   ]
  },
  {
   "cell_type": "code",
   "execution_count": null,
   "id": "4ab6dc15-81a2-4667-964f-cc8d8efa243d",
   "metadata": {},
   "outputs": [],
   "source": [
    "final"
   ]
  },
  {
   "cell_type": "code",
   "execution_count": null,
   "id": "5557397c-f015-4a6d-9856-8e3356276c91",
   "metadata": {},
   "outputs": [],
   "source": [
    "pit.final_pies(final)"
   ]
  },
  {
   "cell_type": "markdown",
   "id": "bfb15c46-3781-406b-8aa7-869ed2eb083a",
   "metadata": {},
   "source": [
    "# Final Takeaway\n",
    "\n",
    "- Our models are not good - as expected. \n",
    "- I'm not sure that it is possible to effectively predict tax assessed value beyond using the previous year's value\n",
    "- Tax Assessed Value is probably not even a good proxy for sales prices for homes.\n",
    "- Too many subjective measures are included, such as tax assessor's biases, the buyer's biases, whatever exemptions were filed and when they were filed for and other convoluting factors\n",
    "- "
   ]
  },
  {
   "cell_type": "code",
   "execution_count": null,
   "id": "867630ce-e3b4-4456-8f11-74d9334c8a6c",
   "metadata": {},
   "outputs": [],
   "source": []
  }
 ],
 "metadata": {
  "kernelspec": {
   "display_name": "Python 3 (ipykernel)",
   "language": "python",
   "name": "python3"
  },
  "language_info": {
   "codemirror_mode": {
    "name": "ipython",
    "version": 3
   },
   "file_extension": ".py",
   "mimetype": "text/x-python",
   "name": "python",
   "nbconvert_exporter": "python",
   "pygments_lexer": "ipython3",
   "version": "3.9.13"
  }
 },
 "nbformat": 4,
 "nbformat_minor": 5
}
