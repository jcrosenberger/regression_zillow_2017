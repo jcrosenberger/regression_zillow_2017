{
 "cells": [
  {
   "cell_type": "code",
   "execution_count": 50,
   "id": "6f56df22-ac05-461a-bfcf-fbdc555ae96b",
   "metadata": {},
   "outputs": [],
   "source": [
    "# standard python modules\n",
    "%matplotlib inline\n",
    "import plotly.express as px\n",
    "import matplotlib.pyplot as plt\n",
    "import numpy as np\n",
    "import pandas as pd\n",
    "import pydataset\n",
    "import seaborn as sns\n",
    "from math import sqrt\n",
    "from sklearn.feature_selection import RFE, SelectKBest, chi2, f_regression\n",
    "from sklearn.preprocessing import MinMaxScaler\n",
    "from sklearn.metrics import mean_squared_error, r2_score\n",
    "from sklearn.linear_model import LinearRegression, LassoLars, TweedieRegressor\n",
    "import statsmodels.api as sm\n",
    "\n",
    "\n",
    "# my modules\n",
    "import src.wrangle as wr\n",
    "import src.evaluate as ev \n",
    "import src.put_it_together as pit\n",
    "\n",
    "# setting random seed to 7\n",
    "np.random.seed(7)\n",
    "\n",
    "# turning off red warnings\n",
    "import warnings\n",
    "warnings.filterwarnings(\"ignore\")\n",
    "\n",
    "# module for fixing imported modules\n",
    "from importlib import reload"
   ]
  },
  {
   "cell_type": "code",
   "execution_count": 11,
   "id": "5d86e6f0-8135-4b64-bd1c-f5de369a2adb",
   "metadata": {},
   "outputs": [],
   "source": [
    "from sklearn.feature_selection import chi2"
   ]
  },
  {
   "cell_type": "code",
   "execution_count": 162,
   "id": "1d2fcc61-f0e3-47d3-bda2-cc42056a3319",
   "metadata": {},
   "outputs": [
    {
     "data": {
      "text/plain": [
       "<module 'src.wrangle' from '/Users/CryanRedrose/codeup-data-science/CodeUp/regression_zillow_2017/src/wrangle.py'>"
      ]
     },
     "execution_count": 162,
     "metadata": {},
     "output_type": "execute_result"
    }
   ],
   "source": [
    "reload(wr)"
   ]
  },
  {
   "cell_type": "code",
   "execution_count": 163,
   "id": "508f237b-4cc9-4b10-9773-1861c975210f",
   "metadata": {},
   "outputs": [],
   "source": [
    "df2 = wr.zillow_2017()"
   ]
  },
  {
   "cell_type": "code",
   "execution_count": 164,
   "id": "05019ed8-8122-4241-a1ca-654780614a6c",
   "metadata": {},
   "outputs": [],
   "source": [
    "df = wr.zillow_2017(simple=False)"
   ]
  },
  {
   "cell_type": "code",
   "execution_count": 165,
   "id": "edb47be1-45a9-4847-85a5-11406ff1eb40",
   "metadata": {},
   "outputs": [
    {
     "data": {
      "text/html": [
       "<div>\n",
       "<style scoped>\n",
       "    .dataframe tbody tr th:only-of-type {\n",
       "        vertical-align: middle;\n",
       "    }\n",
       "\n",
       "    .dataframe tbody tr th {\n",
       "        vertical-align: top;\n",
       "    }\n",
       "\n",
       "    .dataframe thead th {\n",
       "        text-align: right;\n",
       "    }\n",
       "</style>\n",
       "<table border=\"1\" class=\"dataframe\">\n",
       "  <thead>\n",
       "    <tr style=\"text-align: right;\">\n",
       "      <th></th>\n",
       "      <th>tax_value</th>\n",
       "      <th>bedrooms</th>\n",
       "      <th>baths</th>\n",
       "      <th>sq_feet</th>\n",
       "      <th>fips</th>\n",
       "    </tr>\n",
       "  </thead>\n",
       "  <tbody>\n",
       "    <tr>\n",
       "      <th>0</th>\n",
       "      <td>1023282</td>\n",
       "      <td>4</td>\n",
       "      <td>3</td>\n",
       "      <td>3100</td>\n",
       "      <td>6059</td>\n",
       "    </tr>\n",
       "    <tr>\n",
       "      <th>1</th>\n",
       "      <td>464000</td>\n",
       "      <td>2</td>\n",
       "      <td>1</td>\n",
       "      <td>1465</td>\n",
       "      <td>6111</td>\n",
       "    </tr>\n",
       "    <tr>\n",
       "      <th>2</th>\n",
       "      <td>564778</td>\n",
       "      <td>3</td>\n",
       "      <td>2</td>\n",
       "      <td>1243</td>\n",
       "      <td>6059</td>\n",
       "    </tr>\n",
       "    <tr>\n",
       "      <th>3</th>\n",
       "      <td>145143</td>\n",
       "      <td>4</td>\n",
       "      <td>3</td>\n",
       "      <td>2376</td>\n",
       "      <td>6037</td>\n",
       "    </tr>\n",
       "    <tr>\n",
       "      <th>4</th>\n",
       "      <td>773303</td>\n",
       "      <td>4</td>\n",
       "      <td>3</td>\n",
       "      <td>2962</td>\n",
       "      <td>6037</td>\n",
       "    </tr>\n",
       "  </tbody>\n",
       "</table>\n",
       "</div>"
      ],
      "text/plain": [
       "   tax_value  bedrooms  baths  sq_feet  fips\n",
       "0    1023282         4      3     3100  6059\n",
       "1     464000         2      1     1465  6111\n",
       "2     564778         3      2     1243  6059\n",
       "3     145143         4      3     2376  6037\n",
       "4     773303         4      3     2962  6037"
      ]
     },
     "execution_count": 165,
     "metadata": {},
     "output_type": "execute_result"
    }
   ],
   "source": [
    "df2.head()"
   ]
  },
  {
   "cell_type": "code",
   "execution_count": 141,
   "id": "56a355a7-903b-45f2-a0d9-7a026349b180",
   "metadata": {},
   "outputs": [
    {
     "data": {
      "text/plain": [
       "0.9021333333333333"
      ]
     },
     "execution_count": 141,
     "metadata": {},
     "output_type": "execute_result"
    }
   ],
   "source": [
    "(df.iloc[:,1].count())/52500"
   ]
  },
  {
   "cell_type": "code",
   "execution_count": 148,
   "id": "b937725f-1715-41dd-8a56-e115b5f500c7",
   "metadata": {},
   "outputs": [
    {
     "data": {
      "text/plain": [
       "0.8946666666666667"
      ]
     },
     "execution_count": 148,
     "metadata": {},
     "output_type": "execute_result"
    }
   ],
   "source": [
    "46970/52500"
   ]
  },
  {
   "cell_type": "code",
   "execution_count": 100,
   "id": "52db6e0c-8c63-4601-8a5a-4920be2c7f5e",
   "metadata": {},
   "outputs": [
    {
     "data": {
      "text/html": [
       "<div>\n",
       "<style scoped>\n",
       "    .dataframe tbody tr th:only-of-type {\n",
       "        vertical-align: middle;\n",
       "    }\n",
       "\n",
       "    .dataframe tbody tr th {\n",
       "        vertical-align: top;\n",
       "    }\n",
       "\n",
       "    .dataframe thead th {\n",
       "        text-align: right;\n",
       "    }\n",
       "</style>\n",
       "<table border=\"1\" class=\"dataframe\">\n",
       "  <thead>\n",
       "    <tr style=\"text-align: right;\">\n",
       "      <th></th>\n",
       "      <th>tax_value</th>\n",
       "      <th>bedrooms</th>\n",
       "      <th>bath_adv</th>\n",
       "      <th>sq_feet</th>\n",
       "      <th>lot_size</th>\n",
       "      <th>year_built</th>\n",
       "      <th>fips</th>\n",
       "    </tr>\n",
       "  </thead>\n",
       "  <tbody>\n",
       "    <tr>\n",
       "      <th>0</th>\n",
       "      <td>1023282</td>\n",
       "      <td>4</td>\n",
       "      <td>3</td>\n",
       "      <td>3100</td>\n",
       "      <td>4506</td>\n",
       "      <td>1998</td>\n",
       "      <td>6059</td>\n",
       "    </tr>\n",
       "    <tr>\n",
       "      <th>1</th>\n",
       "      <td>464000</td>\n",
       "      <td>2</td>\n",
       "      <td>1</td>\n",
       "      <td>1465</td>\n",
       "      <td>12647</td>\n",
       "      <td>1967</td>\n",
       "      <td>6111</td>\n",
       "    </tr>\n",
       "    <tr>\n",
       "      <th>2</th>\n",
       "      <td>564778</td>\n",
       "      <td>3</td>\n",
       "      <td>2</td>\n",
       "      <td>1243</td>\n",
       "      <td>8432</td>\n",
       "      <td>1962</td>\n",
       "      <td>6059</td>\n",
       "    </tr>\n",
       "    <tr>\n",
       "      <th>3</th>\n",
       "      <td>145143</td>\n",
       "      <td>4</td>\n",
       "      <td>3</td>\n",
       "      <td>2376</td>\n",
       "      <td>13038</td>\n",
       "      <td>1970</td>\n",
       "      <td>6037</td>\n",
       "    </tr>\n",
       "    <tr>\n",
       "      <th>4</th>\n",
       "      <td>773303</td>\n",
       "      <td>4</td>\n",
       "      <td>3</td>\n",
       "      <td>2962</td>\n",
       "      <td>63000</td>\n",
       "      <td>1950</td>\n",
       "      <td>6037</td>\n",
       "    </tr>\n",
       "  </tbody>\n",
       "</table>\n",
       "</div>"
      ],
      "text/plain": [
       "   tax_value  bedrooms  bath_adv  sq_feet  lot_size  year_built  fips\n",
       "0    1023282         4         3     3100      4506        1998  6059\n",
       "1     464000         2         1     1465     12647        1967  6111\n",
       "2     564778         3         2     1243      8432        1962  6059\n",
       "3     145143         4         3     2376     13038        1970  6037\n",
       "4     773303         4         3     2962     63000        1950  6037"
      ]
     },
     "execution_count": 100,
     "metadata": {},
     "output_type": "execute_result"
    }
   ],
   "source": [
    "df.head()"
   ]
  },
  {
   "cell_type": "code",
   "execution_count": 169,
   "id": "d222d7bf-0b22-45dd-a86a-cbe08b54ac81",
   "metadata": {},
   "outputs": [],
   "source": [
    "def explore_graph2():\n",
    "    plt.figure(figsize=(10,10))\n",
    "    variables = ['tax_value', 'bedrooms', 'bath_adv', 'sq_feet', 'lot_size', 'year_built']\n",
    "    n=1\n",
    "    for i in variables:\n",
    "        #n = 1\n",
    "        plt.subplot(4,2,n)\n",
    "        sns.boxplot(x = df2[i])\n",
    "        n +=1\n",
    "\n",
    "    plt.subplots_adjust(hspace=1)   \n",
    "    plt.suptitle('outlier detection')\n",
    "    plt.show()"
   ]
  },
  {
   "cell_type": "code",
   "execution_count": 144,
   "id": "27ce0dea-0cb8-4f89-b127-0490c2533fc3",
   "metadata": {},
   "outputs": [],
   "source": [
    "def explore_graph1():\n",
    "    plt.figure(figsize=(10,10))\n",
    "    variables = ['tax_value', 'bedrooms', 'bath_adv', 'sq_feet', 'lot_size', 'year_built']\n",
    "    n=1\n",
    "    for i in variables:\n",
    "        #n = 1\n",
    "        plt.subplot(4,2,n)\n",
    "        sns.boxplot(x = df[i])\n",
    "        n +=1\n",
    "\n",
    "    plt.subplots_adjust(hspace=1)   \n",
    "    plt.suptitle('outlier detection')\n",
    "    plt.show()"
   ]
  },
  {
   "cell_type": "code",
   "execution_count": 167,
   "id": "75d0a686-4cfb-4d21-8374-87e5bb3e0024",
   "metadata": {},
   "outputs": [
    {
     "data": {
      "image/png": "[encoded data removed]",
      "text/plain": [
       "<Figure size 1000x1000 with 6 Axes>"
      ]
     },
     "metadata": {},
     "output_type": "display_data"
    }
   ],
   "source": [
    "explore_graph1()"
   ]
  },
  {
   "cell_type": "code",
   "execution_count": 170,
   "id": "3d6951be-5917-42bf-87da-4ab6ab5da58f",
   "metadata": {},
   "outputs": [
    {
     "ename": "KeyError",
     "evalue": "'bath_adv'",
     "output_type": "error",
     "traceback": [
      "\u001b[0;31m---------------------------------------------------------------------------\u001b[0m",
      "\u001b[0;31mKeyError\u001b[0m                                  Traceback (most recent call last)",
      "\u001b[0;32m/usr/local/anaconda3/lib/python3.9/site-packages/pandas/core/indexes/base.py\u001b[0m in \u001b[0;36mget_loc\u001b[0;34m(self, key, method, tolerance)\u001b[0m\n\u001b[1;32m   3628\u001b[0m             \u001b[0;32mtry\u001b[0m\u001b[0;34m:\u001b[0m\u001b[0;34m\u001b[0m\u001b[0;34m\u001b[0m\u001b[0m\n\u001b[0;32m-> 3629\u001b[0;31m                 \u001b[0;32mreturn\u001b[0m \u001b[0mself\u001b[0m\u001b[0;34m.\u001b[0m\u001b[0m_engine\u001b[0m\u001b[0;34m.\u001b[0m\u001b[0mget_loc\u001b[0m\u001b[0;34m(\u001b[0m\u001b[0mcasted_key\u001b[0m\u001b[0;34m)\u001b[0m\u001b[0;34m\u001b[0m\u001b[0;34m\u001b[0m\u001b[0m\n\u001b[0m\u001b[1;32m   3630\u001b[0m             \u001b[0;32mexcept\u001b[0m \u001b[0mKeyError\u001b[0m \u001b[0;32mas\u001b[0m \u001b[0merr\u001b[0m\u001b[0;34m:\u001b[0m\u001b[0;34m\u001b[0m\u001b[0;34m\u001b[0m\u001b[0m\n",
      "\u001b[0;32m/usr/local/anaconda3/lib/python3.9/site-packages/pandas/_libs/index.pyx\u001b[0m in \u001b[0;36mpandas._libs.index.IndexEngine.get_loc\u001b[0;34m()\u001b[0m\n",
      "\u001b[0;32m/usr/local/anaconda3/lib/python3.9/site-packages/pandas/_libs/index.pyx\u001b[0m in \u001b[0;36mpandas._libs.index.IndexEngine.get_loc\u001b[0;34m()\u001b[0m\n",
      "\u001b[0;32mpandas/_libs/hashtable_class_helper.pxi\u001b[0m in \u001b[0;36mpandas._libs.hashtable.PyObjectHashTable.get_item\u001b[0;34m()\u001b[0m\n",
      "\u001b[0;32mpandas/_libs/hashtable_class_helper.pxi\u001b[0m in \u001b[0;36mpandas._libs.hashtable.PyObjectHashTable.get_item\u001b[0;34m()\u001b[0m\n",
      "\u001b[0;31mKeyError\u001b[0m: 'bath_adv'",
      "\nThe above exception was the direct cause of the following exception:\n",
      "\u001b[0;31mKeyError\u001b[0m                                  Traceback (most recent call last)",
      "\u001b[0;32m/var/folders/hf/46l4fb0x1bj47kh2tdxlqp1h0000gn/T/ipykernel_81671/1031331994.py\u001b[0m in \u001b[0;36m<module>\u001b[0;34m\u001b[0m\n\u001b[0;32m----> 1\u001b[0;31m \u001b[0mexplore_graph2\u001b[0m\u001b[0;34m(\u001b[0m\u001b[0;34m)\u001b[0m\u001b[0;34m\u001b[0m\u001b[0;34m\u001b[0m\u001b[0m\n\u001b[0m",
      "\u001b[0;32m/var/folders/hf/46l4fb0x1bj47kh2tdxlqp1h0000gn/T/ipykernel_81671/1517333744.py\u001b[0m in \u001b[0;36mexplore_graph2\u001b[0;34m()\u001b[0m\n\u001b[1;32m      6\u001b[0m         \u001b[0;31m#n = 1\u001b[0m\u001b[0;34m\u001b[0m\u001b[0;34m\u001b[0m\u001b[0m\n\u001b[1;32m      7\u001b[0m         \u001b[0mplt\u001b[0m\u001b[0;34m.\u001b[0m\u001b[0msubplot\u001b[0m\u001b[0;34m(\u001b[0m\u001b[0;36m4\u001b[0m\u001b[0;34m,\u001b[0m\u001b[0;36m2\u001b[0m\u001b[0;34m,\u001b[0m\u001b[0mn\u001b[0m\u001b[0;34m)\u001b[0m\u001b[0;34m\u001b[0m\u001b[0;34m\u001b[0m\u001b[0m\n\u001b[0;32m----> 8\u001b[0;31m         \u001b[0msns\u001b[0m\u001b[0;34m.\u001b[0m\u001b[0mboxplot\u001b[0m\u001b[0;34m(\u001b[0m\u001b[0mx\u001b[0m \u001b[0;34m=\u001b[0m \u001b[0mdf2\u001b[0m\u001b[0;34m[\u001b[0m\u001b[0mi\u001b[0m\u001b[0;34m]\u001b[0m\u001b[0;34m)\u001b[0m\u001b[0;34m\u001b[0m\u001b[0;34m\u001b[0m\u001b[0m\n\u001b[0m\u001b[1;32m      9\u001b[0m         \u001b[0mn\u001b[0m \u001b[0;34m+=\u001b[0m\u001b[0;36m1\u001b[0m\u001b[0;34m\u001b[0m\u001b[0;34m\u001b[0m\u001b[0m\n\u001b[1;32m     10\u001b[0m \u001b[0;34m\u001b[0m\u001b[0m\n",
      "\u001b[0;32m/usr/local/anaconda3/lib/python3.9/site-packages/pandas/core/frame.py\u001b[0m in \u001b[0;36m__getitem__\u001b[0;34m(self, key)\u001b[0m\n\u001b[1;32m   3503\u001b[0m             \u001b[0;32mif\u001b[0m \u001b[0mself\u001b[0m\u001b[0;34m.\u001b[0m\u001b[0mcolumns\u001b[0m\u001b[0;34m.\u001b[0m\u001b[0mnlevels\u001b[0m \u001b[0;34m>\u001b[0m \u001b[0;36m1\u001b[0m\u001b[0;34m:\u001b[0m\u001b[0;34m\u001b[0m\u001b[0;34m\u001b[0m\u001b[0m\n\u001b[1;32m   3504\u001b[0m                 \u001b[0;32mreturn\u001b[0m \u001b[0mself\u001b[0m\u001b[0;34m.\u001b[0m\u001b[0m_getitem_multilevel\u001b[0m\u001b[0;34m(\u001b[0m\u001b[0mkey\u001b[0m\u001b[0;34m)\u001b[0m\u001b[0;34m\u001b[0m\u001b[0;34m\u001b[0m\u001b[0m\n\u001b[0;32m-> 3505\u001b[0;31m             \u001b[0mindexer\u001b[0m \u001b[0;34m=\u001b[0m \u001b[0mself\u001b[0m\u001b[0;34m.\u001b[0m\u001b[0mcolumns\u001b[0m\u001b[0;34m.\u001b[0m\u001b[0mget_loc\u001b[0m\u001b[0;34m(\u001b[0m\u001b[0mkey\u001b[0m\u001b[0;34m)\u001b[0m\u001b[0;34m\u001b[0m\u001b[0;34m\u001b[0m\u001b[0m\n\u001b[0m\u001b[1;32m   3506\u001b[0m             \u001b[0;32mif\u001b[0m \u001b[0mis_integer\u001b[0m\u001b[0;34m(\u001b[0m\u001b[0mindexer\u001b[0m\u001b[0;34m)\u001b[0m\u001b[0;34m:\u001b[0m\u001b[0;34m\u001b[0m\u001b[0;34m\u001b[0m\u001b[0m\n\u001b[1;32m   3507\u001b[0m                 \u001b[0mindexer\u001b[0m \u001b[0;34m=\u001b[0m \u001b[0;34m[\u001b[0m\u001b[0mindexer\u001b[0m\u001b[0;34m]\u001b[0m\u001b[0;34m\u001b[0m\u001b[0;34m\u001b[0m\u001b[0m\n",
      "\u001b[0;32m/usr/local/anaconda3/lib/python3.9/site-packages/pandas/core/indexes/base.py\u001b[0m in \u001b[0;36mget_loc\u001b[0;34m(self, key, method, tolerance)\u001b[0m\n\u001b[1;32m   3629\u001b[0m                 \u001b[0;32mreturn\u001b[0m \u001b[0mself\u001b[0m\u001b[0;34m.\u001b[0m\u001b[0m_engine\u001b[0m\u001b[0;34m.\u001b[0m\u001b[0mget_loc\u001b[0m\u001b[0;34m(\u001b[0m\u001b[0mcasted_key\u001b[0m\u001b[0;34m)\u001b[0m\u001b[0;34m\u001b[0m\u001b[0;34m\u001b[0m\u001b[0m\n\u001b[1;32m   3630\u001b[0m             \u001b[0;32mexcept\u001b[0m \u001b[0mKeyError\u001b[0m \u001b[0;32mas\u001b[0m \u001b[0merr\u001b[0m\u001b[0;34m:\u001b[0m\u001b[0;34m\u001b[0m\u001b[0;34m\u001b[0m\u001b[0m\n\u001b[0;32m-> 3631\u001b[0;31m                 \u001b[0;32mraise\u001b[0m \u001b[0mKeyError\u001b[0m\u001b[0;34m(\u001b[0m\u001b[0mkey\u001b[0m\u001b[0;34m)\u001b[0m \u001b[0;32mfrom\u001b[0m \u001b[0merr\u001b[0m\u001b[0;34m\u001b[0m\u001b[0;34m\u001b[0m\u001b[0m\n\u001b[0m\u001b[1;32m   3632\u001b[0m             \u001b[0;32mexcept\u001b[0m \u001b[0mTypeError\u001b[0m\u001b[0;34m:\u001b[0m\u001b[0;34m\u001b[0m\u001b[0;34m\u001b[0m\u001b[0m\n\u001b[1;32m   3633\u001b[0m                 \u001b[0;31m# If we have a listlike key, _check_indexing_error will raise\u001b[0m\u001b[0;34m\u001b[0m\u001b[0;34m\u001b[0m\u001b[0m\n",
      "\u001b[0;31mKeyError\u001b[0m: 'bath_adv'"
     ]
    },
    {
     "data": {
      "image/png": "[encoded data removed]",
      "text/plain": [
       "<Figure size 1000x1000 with 3 Axes>"
      ]
     },
     "metadata": {},
     "output_type": "display_data"
    }
   ],
   "source": [
    "explore_graph2()"
   ]
  },
  {
   "cell_type": "code",
   "execution_count": 101,
   "id": "1fbb5b39-5192-412b-b967-51ba97ee86b9",
   "metadata": {},
   "outputs": [
    {
     "data": {
      "image/png": "[encoded data removed]",
      "text/plain": [
       "<Figure size 1000x1000 with 6 Axes>"
      ]
     },
     "metadata": {},
     "output_type": "display_data"
    }
   ],
   "source": [
    "plt.figure(figsize=(10,10))\n",
    "variables = ['tax_value', 'bedrooms', 'bath_adv', 'sq_feet', 'lot_size', 'year_built']\n",
    "n=1\n",
    "for i in variables:\n",
    "    #n = 1\n",
    "    plt.subplot(4,2,n)\n",
    "    sns.boxplot(x = df[i])\n",
    "    n +=1\n",
    "    \n",
    "plt.subplots_adjust(hspace=1)   \n",
    "plt.suptitle('outlier detection')\n",
    "plt.show()"
   ]
  },
  {
   "cell_type": "code",
   "execution_count": 155,
   "id": "8de30083-42b3-4d37-9bda-2c2dbacf3114",
   "metadata": {},
   "outputs": [
    {
     "data": {
      "text/plain": [
       "8493.4215772138"
      ]
     },
     "execution_count": 155,
     "metadata": {},
     "output_type": "execute_result"
    }
   ],
   "source": [
    "df['tax_value'].mean()*0.02"
   ]
  },
  {
   "cell_type": "code",
   "execution_count": 158,
   "id": "502ab6af-5c21-48c5-8d3f-0c1b364e3e5b",
   "metadata": {},
   "outputs": [
    {
     "data": {
      "text/plain": [
       "4254"
      ]
     },
     "execution_count": 158,
     "metadata": {},
     "output_type": "execute_result"
    }
   ],
   "source": [
    "\n",
    "low_tax_bool = df['tax_value'] < 6000\n",
    "df['tax_value'][low_tax_bool].sum()"
   ]
  },
  {
   "cell_type": "code",
   "execution_count": 161,
   "id": "3efd09a9-b8d4-4ade-a7b1-b609715b5aed",
   "metadata": {},
   "outputs": [
    {
     "data": {
      "text/plain": [
       "46968"
      ]
     },
     "execution_count": 161,
     "metadata": {},
     "output_type": "execute_result"
    }
   ],
   "source": [
    "high_tax_bool = df['tax_value'] < 1557580\n",
    "low_tax_bool = df['tax_value'] > 6000\n",
    "df['tax_value'][high_tax_bool & low_tax_bool].count()"
   ]
  },
  {
   "cell_type": "code",
   "execution_count": 131,
   "id": "76d8156a-6337-4f8c-a728-9ccd4d990308",
   "metadata": {},
   "outputs": [
    {
     "data": {
      "text/plain": [
       "48287"
      ]
     },
     "execution_count": 131,
     "metadata": {},
     "output_type": "execute_result"
    }
   ],
   "source": [
    "high_lot_size_bool = df['lot_size'] < 6000000\n",
    "low_lot_size_bool = df['lot_size'] > 750\n",
    "df['lot_size'][high_lot_size_bool & low_lot_size_bool].count()"
   ]
  },
  {
   "cell_type": "code",
   "execution_count": 111,
   "id": "009ca549-92d2-40a3-bcc0-a8c0efd57969",
   "metadata": {},
   "outputs": [
    {
     "data": {
      "text/plain": [
       "47403"
      ]
     },
     "execution_count": 111,
     "metadata": {},
     "output_type": "execute_result"
    }
   ],
   "source": [
    "low_year_built_bool = df['year_built'] > 1915\n",
    "df['year_built'][low_year_built_bool].count()"
   ]
  },
  {
   "cell_type": "code",
   "execution_count": 21,
   "id": "dddae9e8-f7ed-4580-bc23-7ceeb4e49465",
   "metadata": {},
   "outputs": [],
   "source": [
    "df = df.rename(columns={'bedroomcnt':'bedrooms', \n",
    "                                'bathroomcnt':'baths', \n",
    "                                'calculatedfinishedsquarefeet':'sq_feet', \n",
    "                                'yearbuilt':'year_built',\n",
    "                                'taxvaluedollarcnt':'tax_value',\n",
    "                                'calculatedbathnbr':'bath_adv',\n",
    "                                'lotsizesquarefeet':'lot_size',                               \n",
    "                                })"
   ]
  },
  {
   "cell_type": "code",
   "execution_count": 25,
   "id": "b748b8d3-eaf8-4ace-be77-81d7772da1bb",
   "metadata": {},
   "outputs": [],
   "source": [
    "naan_drop_columns = ['tax_value', 'sq_feet', 'bath_adv', 'lot_size', 'year_built']    \n",
    "\n",
    "# drop naans based on the columns identified above\n",
    "df = df.dropna(subset = naan_drop_columns)"
   ]
  },
  {
   "cell_type": "code",
   "execution_count": 59,
   "id": "e5640fc2-efd8-40bd-b31a-d872abe20bee",
   "metadata": {},
   "outputs": [],
   "source": [
    "# split data without differentiating counties\n",
    "x_train, y_train, x_validate, y_validate, x_test, y_test = wr.x_y(df, 'tax_value')\n"
   ]
  },
  {
   "cell_type": "code",
   "execution_count": 60,
   "id": "bc2a3e53-fe76-45ed-9f71-d1c18146fb5b",
   "metadata": {},
   "outputs": [],
   "source": [
    "target = y_train\n",
    "independent = x_train"
   ]
  },
  {
   "cell_type": "code",
   "execution_count": 84,
   "id": "38d28000-550d-417f-a1e9-b831cc33b3db",
   "metadata": {},
   "outputs": [
    {
     "data": {
      "text/html": [
       "<div>\n",
       "<style scoped>\n",
       "    .dataframe tbody tr th:only-of-type {\n",
       "        vertical-align: middle;\n",
       "    }\n",
       "\n",
       "    .dataframe tbody tr th {\n",
       "        vertical-align: top;\n",
       "    }\n",
       "\n",
       "    .dataframe thead th {\n",
       "        text-align: right;\n",
       "    }\n",
       "</style>\n",
       "<table border=\"1\" class=\"dataframe\">\n",
       "  <thead>\n",
       "    <tr style=\"text-align: right;\">\n",
       "      <th></th>\n",
       "      <th>variables</th>\n",
       "      <th>score</th>\n",
       "    </tr>\n",
       "  </thead>\n",
       "  <tbody>\n",
       "    <tr>\n",
       "      <th>4</th>\n",
       "      <td>lot_size</td>\n",
       "      <td>2.090615e+10</td>\n",
       "    </tr>\n",
       "    <tr>\n",
       "      <th>3</th>\n",
       "      <td>sq_feet</td>\n",
       "      <td>7.306631e+06</td>\n",
       "    </tr>\n",
       "    <tr>\n",
       "      <th>2</th>\n",
       "      <td>bath_adv</td>\n",
       "      <td>6.830078e+03</td>\n",
       "    </tr>\n",
       "    <tr>\n",
       "      <th>1</th>\n",
       "      <td>baths</td>\n",
       "      <td>6.587760e+03</td>\n",
       "    </tr>\n",
       "    <tr>\n",
       "      <th>5</th>\n",
       "      <td>year_built</td>\n",
       "      <td>5.707548e+03</td>\n",
       "    </tr>\n",
       "    <tr>\n",
       "      <th>0</th>\n",
       "      <td>bedrooms</td>\n",
       "      <td>4.505879e+03</td>\n",
       "    </tr>\n",
       "  </tbody>\n",
       "</table>\n",
       "</div>"
      ],
      "text/plain": [
       "    variables         score\n",
       "4    lot_size  2.090615e+10\n",
       "3     sq_feet  7.306631e+06\n",
       "2    bath_adv  6.830078e+03\n",
       "1       baths  6.587760e+03\n",
       "5  year_built  5.707548e+03\n",
       "0    bedrooms  4.505879e+03"
      ]
     },
     "execution_count": 84,
     "metadata": {},
     "output_type": "execute_result"
    }
   ],
   "source": [
    "''' \n",
    "scoring best variables using f_regression\n",
    "'''\n",
    "\n",
    "\n",
    "kbest = SelectKBest(score_func=f_regression, k=5)\n",
    "kbest.fit(x_train, y_train)\n",
    "x_train.columns[kbest.get_support()]\n",
    "dfscores = pd.DataFrame(fit.scores_)\n",
    "dfcolumns = pd.DataFrame(independent.columns)\n",
    "\n",
    "#concat two dataframes for better visualization \n",
    "feature_scores1 = pd.concat([dfcolumns, dfscores], axis=1)\n",
    "\n",
    "# renaming the two columns to make sense\n",
    "feature_scores1.columns= ['variables','score']\n",
    "feature_scores1.nlargest(5,'score')"
   ]
  },
  {
   "cell_type": "code",
   "execution_count": null,
   "id": "769d8b54-29e2-49ff-9052-5a6b4db97e96",
   "metadata": {},
   "outputs": [],
   "source": []
  },
  {
   "cell_type": "code",
   "execution_count": 34,
   "id": "7da7e70e-5457-4e24-b445-3fcdf1316c97",
   "metadata": {},
   "outputs": [
    {
     "data": {
      "image/png": "[encoded data removed]",
      "text/plain": [
       "<Figure size 500x1000 with 2 Axes>"
      ]
     },
     "metadata": {},
     "output_type": "display_data"
    }
   ],
   "source": [
    "# sets size of the vizualization product\n",
    "plt.figure(figsize=(5,10))\n",
    "\n",
    "# DataFrame 1 - both features\n",
    "# creates a vertical heat map, correlating values in dataframe with a feature in the dataframe \n",
    "# (the target value to be predicted)\n",
    "#plt.subplot(1,2,1)\n",
    "heatmap = sns.heatmap(df.corr()[['tax_value']].sort_values(by='tax_value', ascending = False), vmin=-1, vmax=1, annot=True,cmap='BrBG')\n",
    "\n",
    "# title information\n",
    "heatmap.set_title('DF 1 \\nFeatures Correlating with \\nTax Value', fontdict={'fontsize':18}, pad=16);"
   ]
  },
  {
   "cell_type": "code",
   "execution_count": 44,
   "id": "9cc947e1-dc1d-46f5-98fc-aecd41f50427",
   "metadata": {},
   "outputs": [],
   "source": [
    "import keyword"
   ]
  },
  {
   "cell_type": "code",
   "execution_count": 45,
   "id": "a8462843-8be4-4ec0-abd5-aee695de3f2f",
   "metadata": {},
   "outputs": [
    {
     "data": {
      "text/plain": [
       "['False',\n",
       " 'None',\n",
       " 'True',\n",
       " '__peg_parser__',\n",
       " 'and',\n",
       " 'as',\n",
       " 'assert',\n",
       " 'async',\n",
       " 'await',\n",
       " 'break',\n",
       " 'class',\n",
       " 'continue',\n",
       " 'def',\n",
       " 'del',\n",
       " 'elif',\n",
       " 'else',\n",
       " 'except',\n",
       " 'finally',\n",
       " 'for',\n",
       " 'from',\n",
       " 'global',\n",
       " 'if',\n",
       " 'import',\n",
       " 'in',\n",
       " 'is',\n",
       " 'lambda',\n",
       " 'nonlocal',\n",
       " 'not',\n",
       " 'or',\n",
       " 'pass',\n",
       " 'raise',\n",
       " 'return',\n",
       " 'try',\n",
       " 'while',\n",
       " 'with',\n",
       " 'yield']"
      ]
     },
     "execution_count": 45,
     "metadata": {},
     "output_type": "execute_result"
    }
   ],
   "source": [
    "keyword.kwlist"
   ]
  },
  {
   "cell_type": "code",
   "execution_count": null,
   "id": "5b588777-5b38-4959-aecd-b619ede06a1b",
   "metadata": {},
   "outputs": [],
   "source": []
  }
 ],
 "metadata": {
  "kernelspec": {
   "display_name": "Python 3 (ipykernel)",
   "language": "python",
   "name": "python3"
  },
  "language_info": {
   "codemirror_mode": {
    "name": "ipython",
    "version": 3
   },
   "file_extension": ".py",
   "mimetype": "text/x-python",
   "name": "python",
   "nbconvert_exporter": "python",
   "pygments_lexer": "ipython3",
   "version": "3.9.13"
  }
 },
 "nbformat": 4,
 "nbformat_minor": 5
}
